{
 "cells": [
  {
   "cell_type": "code",
   "execution_count": null,
   "id": "cc2c8fcf-091a-4023-98b9-b5d9684d6cde",
   "metadata": {},
   "outputs": [],
   "source": []
  }
 ],
 "metadata": {
  "kernelspec": {
   "display_name": "",
   "name": ""
  },
  "language_info": {
   "name": ""
  }
 },
 "nbformat": 4,
 "nbformat_minor": 5
}
