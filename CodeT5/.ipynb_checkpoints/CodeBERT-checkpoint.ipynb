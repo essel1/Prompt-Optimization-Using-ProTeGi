{
 "cells": [
  {
   "cell_type": "code",
   "execution_count": 2,
   "id": "1776de18-b9c9-44b6-8e03-c4fd9672445d",
   "metadata": {},
   "outputs": [],
   "source": [
    "import pandas as pd\n",
    "import numpy as np\n",
    "import json\n",
    "import ast\n",
    "import torch\n",
    "from torch.utils.data import Dataset, DataLoader\n",
    "from datasets import load_dataset \n",
    "from sklearn.model_selection import train_test_split\n",
    "from transformers import T5ForConditionalGeneration, RobertaTokenizer\n",
    "\n",
    "from transformers import AdamW\n",
    "from tqdm import tqdm"
   ]
  },
  {
   "cell_type": "code",
   "execution_count": 3,
   "id": "076133b1",
   "metadata": {},
   "outputs": [],
   "source": [
    "from accelerate import infer_auto_device_map, init_empty_weights\n",
    "from transformers import AutoModelForSeq2SeqLM\n",
    "from torch.cuda.amp import autocast, GradScaler"
   ]
  },
  {
   "cell_type": "code",
   "execution_count": 4,
   "id": "f0249190",
   "metadata": {},
   "outputs": [],
   "source": [
    "torch.cuda.empty_cache()"
   ]
  },
  {
   "cell_type": "markdown",
   "id": "9cc4a7d9",
   "metadata": {},
   "source": [
    "## Preprocessing data"
   ]
  },
  {
   "cell_type": "code",
   "execution_count": null,
   "id": "72a75cea-abc2-4431-8d74-cab1407181e3",
   "metadata": {},
   "outputs": [],
   "source": [
    "error_summary_df = pd.read_csv(\"./Error Generation/results/error_summary.csv\")\n",
    "error_summary_df.head(5)"
   ]
  },
  {
   "cell_type": "code",
   "execution_count": null,
   "id": "d0255303",
   "metadata": {},
   "outputs": [],
   "source": [
    "error_summary_df = error_summary_df.set_index(\"problem_id\")"
   ]
  },
  {
   "cell_type": "code",
   "execution_count": null,
   "id": "bcdb2f31",
   "metadata": {},
   "outputs": [],
   "source": [
    "error_summary_df.head(5)"
   ]
  },
  {
   "cell_type": "code",
   "execution_count": null,
   "id": "c508ef7a",
   "metadata": {},
   "outputs": [],
   "source": [
    "error_summary_df[\"solution\"] = error_summary_df[\"solution\"].apply(lambda x: ast.literal_eval(x) if isinstance(x,str) else x)"
   ]
  },
  {
   "cell_type": "code",
   "execution_count": null,
   "id": "e06ce52e",
   "metadata": {},
   "outputs": [],
   "source": [
    "import random\n",
    "import ast\n",
    "\n",
    "def generate_input_output_pairs(df):\n",
    "    input_output_pairs = []\n",
    "\n",
    "    for idx, row in df.iterrows():\n",
    "        # Ensure 'solution' is a list\n",
    "        if isinstance(row['solution'], str):\n",
    "            solutions = ast.literal_eval(row['solution'])  # Convert string to list\n",
    "        else:\n",
    "            solutions = row['solution']\n",
    "        \n",
    "        # Shuffle the solutions and pick one\n",
    "        if solutions and isinstance(solutions, list):\n",
    "            index = random.randrange(0,len(solutions))\n",
    "            expected_output = solutions[index]\n",
    "        else:\n",
    "            expected_output = \"No valid solution\"\n",
    "\n",
    "        # Generate the input text\n",
    "        input_text = (\n",
    "            f\"\"\"Generated_output: {row['generated_output']}, expected_output: {expected_output} \"\"\"\n",
    "            f\"\"\"What is the error or difference?\"\"\"\n",
    "        )\n",
    "        \n",
    "        # The output text is the summary\n",
    "        output_text = row['summary']\n",
    "\n",
    "        # Append the pair to the list\n",
    "        input_output_pairs.append((input_text, output_text))\n",
    "\n",
    "    return input_output_pairs\n"
   ]
  },
  {
   "cell_type": "code",
   "execution_count": null,
   "id": "2f39b742",
   "metadata": {},
   "outputs": [],
   "source": [
    "training_data = generate_input_output_pairs(error_summary_df)\n",
    "print(training_data[0])"
   ]
  },
  {
   "cell_type": "code",
   "execution_count": null,
   "id": "bc5a08f4",
   "metadata": {},
   "outputs": [],
   "source": [
    "len(training_data)"
   ]
  },
  {
   "cell_type": "code",
   "execution_count": null,
   "id": "bb8fba5f",
   "metadata": {},
   "outputs": [],
   "source": [
    "train_data, test_data = train_test_split(training_data, test_size = 0.09, random_state = 42)"
   ]
  },
  {
   "cell_type": "code",
   "execution_count": null,
   "id": "7665ae9d",
   "metadata": {},
   "outputs": [],
   "source": [
    "def preprocess_data(data):\n",
    "    processed_data = []\n",
    "    for input_text, output_text in data:\n",
    "        processed_data.append({\n",
    "            'input_text': input_text,\n",
    "            'output_text': output_text\n",
    "        })\n",
    "    return processed_data"
   ]
  },
  {
   "cell_type": "code",
   "execution_count": null,
   "id": "076f151c",
   "metadata": {},
   "outputs": [],
   "source": [
    "train_data_processed = preprocess_data(train_data)"
   ]
  },
  {
   "cell_type": "code",
   "execution_count": null,
   "id": "81667bda",
   "metadata": {},
   "outputs": [],
   "source": [
    "test_data_processed = preprocess_data(test_data)"
   ]
  },
  {
   "cell_type": "code",
   "execution_count": null,
   "id": "98951c04",
   "metadata": {},
   "outputs": [],
   "source": [
    "with open('train_data.json', 'w') as train_file:\n",
    "    json.dump(train_data_processed, train_file, indent=4)\n",
    "\n",
    "with open('test_data.json', 'w') as test_file:\n",
    "    json.dump(test_data_processed, test_file, indent=4)"
   ]
  },
  {
   "cell_type": "markdown",
   "id": "ba6e5321",
   "metadata": {},
   "source": [
    "## FineTuning CodeT5"
   ]
  },
  {
   "cell_type": "code",
   "execution_count": null,
   "id": "7147ec22",
   "metadata": {},
   "outputs": [],
   "source": [
    "model_name = \"Salesforce/codet5-base\"\n",
    "tokenizer = RobertaTokenizer.from_pretrained(model_name)\n",
    "with init_empty_weights():\n",
    "    model = AutoModelForSeq2SeqLM.from_pretrained(\"Salesforce/codet5-small\")"
   ]
  },
  {
   "cell_type": "code",
   "execution_count": null,
   "id": "26ed8f98",
   "metadata": {},
   "outputs": [],
   "source": [
    "device_map = infer_auto_device_map(model, max_memory={0: \"4GiB\", \"cpu\": \"8GiB\"})"
   ]
  },
  {
   "cell_type": "code",
   "execution_count": null,
   "id": "c0d838a5",
   "metadata": {},
   "outputs": [],
   "source": [
    "model = AutoModelForSeq2SeqLM.from_pretrained(\"Salesforce/codet5-base\", device_map=device_map)"
   ]
  },
  {
   "cell_type": "code",
   "execution_count": null,
   "id": "f8fbae51",
   "metadata": {},
   "outputs": [],
   "source": [
    "class CodeT5Dataset(Dataset):\n",
    "    def __init__(self, data, tokenizer, max_length=512):\n",
    "        self.data = data\n",
    "        self.tokenizer = tokenizer\n",
    "        self.max_length = max_length\n",
    "\n",
    "    def __len__(self):\n",
    "        return len(self.data)\n",
    "\n",
    "    def __getitem__(self, idx):\n",
    "        item = self.data[idx]\n",
    "        input_text = item['input_text']\n",
    "        output_text = item['output_text']\n",
    "\n",
    "        # Tokenize inputs and labels\n",
    "        inputs = self.tokenizer(\n",
    "            input_text,\n",
    "            max_length=self.max_length,\n",
    "            truncation=True,\n",
    "            padding=\"max_length\",\n",
    "            return_tensors=\"pt\"\n",
    "        )\n",
    "        labels = self.tokenizer(\n",
    "            output_text,\n",
    "            max_length=self.max_length,\n",
    "            truncation=True,\n",
    "            padding=\"max_length\",\n",
    "            return_tensors=\"pt\"\n",
    "        )\n",
    "\n",
    "        # Return tokenized inputs and labels\n",
    "        return {\n",
    "            \"input_ids\": inputs[\"input_ids\"].squeeze(),\n",
    "            \"attention_mask\": inputs[\"attention_mask\"].squeeze(),\n",
    "            \"labels\": labels[\"input_ids\"].squeeze()\n",
    "        }"
   ]
  },
  {
   "cell_type": "code",
   "execution_count": null,
   "id": "16491b84",
   "metadata": {},
   "outputs": [],
   "source": [
    "train_dataset = CodeT5Dataset(train_data_processed, tokenizer)\n",
    "test_dataset = CodeT5Dataset(test_data_processed, tokenizer)"
   ]
  },
  {
   "cell_type": "code",
   "execution_count": null,
   "id": "4441d576",
   "metadata": {},
   "outputs": [],
   "source": [
    "train_loader = DataLoader(train_dataset, batch_size=4, shuffle=True)\n",
    "test_loader = DataLoader(test_dataset, batch_size=4)"
   ]
  },
  {
   "cell_type": "code",
   "execution_count": null,
   "id": "34032a27",
   "metadata": {},
   "outputs": [],
   "source": []
  },
  {
   "cell_type": "code",
   "execution_count": null,
   "id": "acd1c6a3",
   "metadata": {},
   "outputs": [],
   "source": []
  },
  {
   "cell_type": "code",
   "execution_count": null,
   "id": "88090964",
   "metadata": {},
   "outputs": [],
   "source": []
  },
  {
   "cell_type": "code",
   "execution_count": null,
   "id": "5ec368ee",
   "metadata": {},
   "outputs": [],
   "source": []
  },
  {
   "cell_type": "markdown",
   "id": "6b88b1da",
   "metadata": {},
   "source": [
    "### Training Loop"
   ]
  },
  {
   "cell_type": "code",
   "execution_count": null,
   "id": "26146d71",
   "metadata": {},
   "outputs": [],
   "source": [
    "optimizer = AdamW(model.parameters(), lr=5e-5)"
   ]
  },
  {
   "cell_type": "code",
   "execution_count": null,
   "id": "65d3f7a0",
   "metadata": {
    "scrolled": true
   },
   "outputs": [],
   "source": [
    "device = torch.device(\"cuda\" if torch.cuda.is_available() else \"cpu\")\n",
    "model.to(device)"
   ]
  },
  {
   "cell_type": "code",
   "execution_count": null,
   "id": "7a3ff3ea",
   "metadata": {},
   "outputs": [],
   "source": [
    "epochs = 3"
   ]
  },
  {
   "cell_type": "code",
   "execution_count": null,
   "id": "48a5aad3",
   "metadata": {},
   "outputs": [],
   "source": [
    "scaler = GradScaler()"
   ]
  },
  {
   "cell_type": "code",
   "execution_count": null,
   "id": "1bc4fb09",
   "metadata": {},
   "outputs": [],
   "source": [
    "for epoch in range(epochs):\n",
    "    model.train()\n",
    "    epoch_loss = 0\n",
    "\n",
    "    for batch in train_loader:\n",
    "        optimizer.zero_grad()  # Clear previous gradients\n",
    "\n",
    "        # Move inputs to GPU\n",
    "        input_ids = batch[\"input_ids\"].to(device)\n",
    "        attention_mask = batch[\"attention_mask\"].to(device)\n",
    "        labels = batch[\"labels\"].to(device)\n",
    "\n",
    "        # Forward pass with mixed precision\n",
    "        with autocast():\n",
    "            outputs = model(input_ids=input_ids, attention_mask=attention_mask, labels=labels)\n",
    "            loss = outputs.loss\n",
    "\n",
    "        # Backward pass with scaled loss\n",
    "        scaler.scale(loss).backward()\n",
    "\n",
    "        # Update the weights\n",
    "        scaler.step(optimizer)\n",
    "        scaler.update()\n",
    "\n",
    "        # Accumulate loss for monitoring\n",
    "        epoch_loss += loss.item()\n",
    "\n",
    "    print(f\"Epoch {epoch + 1}, Loss: {epoch_loss / len(train_loader)}\")"
   ]
  },
  {
   "cell_type": "code",
   "execution_count": null,
   "id": "1fd309c0",
   "metadata": {},
   "outputs": [],
   "source": [
    "print(\"CUDA available:\", torch.cuda.is_available())\n",
    "print(\"Number of GPUs:\", torch.cuda.device_count())\n",
    "print(\"Current GPU:\", torch.cuda.current_device())\n",
    "print(\"GPU Name:\", torch.cuda.get_device_name(0) if torch.cuda.is_available() else \"No GPU\")"
   ]
  },
  {
   "cell_type": "code",
   "execution_count": null,
   "id": "bb551426",
   "metadata": {},
   "outputs": [],
   "source": []
  }
 ],
 "metadata": {
  "kernelspec": {
   "display_name": "Python 3 (ipykernel)",
   "language": "python",
   "name": "python3"
  },
  "language_info": {
   "codemirror_mode": {
    "name": "ipython",
    "version": 3
   },
   "file_extension": ".py",
   "mimetype": "text/x-python",
   "name": "python",
   "nbconvert_exporter": "python",
   "pygments_lexer": "ipython3",
   "version": "3.8.20"
  }
 },
 "nbformat": 4,
 "nbformat_minor": 5
}
